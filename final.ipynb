{
 "cells": [
  {
   "cell_type": "code",
   "execution_count": 3,
   "metadata": {},
   "outputs": [
    {
     "name": "stdout",
     "output_type": "stream",
     "text": [
      "<class 'pandas.core.frame.DataFrame'>\n",
      "RangeIndex: 7043 entries, 0 to 7042\n",
      "Data columns (total 21 columns):\n",
      " #   Column            Non-Null Count  Dtype  \n",
      "---  ------            --------------  -----  \n",
      " 0   customerID        7043 non-null   object \n",
      " 1   gender            7043 non-null   object \n",
      " 2   SeniorCitizen     7043 non-null   int64  \n",
      " 3   Partner           7043 non-null   object \n",
      " 4   Dependents        7043 non-null   object \n",
      " 5   tenure            7043 non-null   int64  \n",
      " 6   PhoneService      7043 non-null   object \n",
      " 7   MultipleLines     7043 non-null   object \n",
      " 8   InternetService   7043 non-null   object \n",
      " 9   OnlineSecurity    7043 non-null   object \n",
      " 10  OnlineBackup      7043 non-null   object \n",
      " 11  DeviceProtection  7043 non-null   object \n",
      " 12  TechSupport       7043 non-null   object \n",
      " 13  StreamingTV       7043 non-null   object \n",
      " 14  StreamingMovies   7043 non-null   object \n",
      " 15  Contract          7043 non-null   object \n",
      " 16  PaperlessBilling  7043 non-null   object \n",
      " 17  PaymentMethod     7043 non-null   object \n",
      " 18  MonthlyCharges    7043 non-null   float64\n",
      " 19  TotalCharges      7043 non-null   object \n",
      " 20  Churn             7043 non-null   object \n",
      "dtypes: float64(1), int64(2), object(18)\n",
      "memory usage: 1.1+ MB\n"
     ]
    }
   ],
   "source": [
    "import pandas as pd\n",
    "df=pd.read_csv('/Users/cyrilmahfouz/Desktop/SEF/Week2/Pandas_Rfinal/Telco-Customer-Churn.csv')\n",
    "df.info()"
   ]
  },
  {
   "cell_type": "markdown",
   "metadata": {},
   "source": [
    "<h3><font color='red'>Introduction</font></h3>"
   ]
  },
  {
   "cell_type": "code",
   "execution_count": 26,
   "metadata": {},
   "outputs": [
    {
     "data": {
      "text/plain": [
       "customerID          7043\n",
       "gender              7043\n",
       "SeniorCitizen       7043\n",
       "Partner             7043\n",
       "Dependents          7043\n",
       "tenure              7043\n",
       "PhoneService        7043\n",
       "MultipleLines       7043\n",
       "InternetService     7043\n",
       "OnlineSecurity      7043\n",
       "OnlineBackup        7043\n",
       "DeviceProtection    7043\n",
       "TechSupport         7043\n",
       "StreamingTV         7043\n",
       "StreamingMovies     7043\n",
       "Contract            7043\n",
       "PaperlessBilling    7043\n",
       "PaymentMethod       7043\n",
       "MonthlyCharges      7043\n",
       "TotalCharges        7043\n",
       "Churn               7043\n",
       "dtype: int64"
      ]
     },
     "execution_count": 26,
     "metadata": {},
     "output_type": "execute_result"
    }
   ],
   "source": [
    "df.head()\n"
   ]
  },
  {
   "cell_type": "markdown",
   "metadata": {},
   "source": [
    "To start we are looking at a dataframe representing the customers in a telecominication company .This dataframe contains information about 7043 customer.Furthermore we can detect that all of these columns revolves around one target value and that is whether the customer churn or not.<br>\n",
    "Let's begin by identifying the interesting columns and how could they possibly relate to the churning of the customer. The logical links that affect the prices are:<br>\n",
    "1. The tenure.<br>\n",
    "2. The age range (Senior or not)\n",
    "3. Whether or not the customer is dependant on somebody or not.(Partners).<br>\n",
    "4. What is the type of service that he is using.<br>\n",
    "5. The type of contract that he is enrolled with.<br>\n",
    "6. The total charges that he has to pay. "
   ]
  },
  {
   "cell_type": "markdown",
   "metadata": {},
   "source": [
    "<h3><font color='red'>Anazlyze</font></h3>"
   ]
  },
  {
   "cell_type": "markdown",
   "metadata": {},
   "source": [
    "To begin with let's understand the meaning of churn and why it is that important. The churn column represents whether the custumer bail on the company or not. So we could also get from this column if the customer is loyal towards the company.<br>\n",
    "After understandig this, lets kick it by getting the total number of churn and analyzing the tenure of each customer."
   ]
  },
  {
   "cell_type": "code",
   "execution_count": 38,
   "metadata": {},
   "outputs": [
    {
     "name": "stdout",
     "output_type": "stream",
     "text": [
      "the total number of churn is:  1869\n"
     ]
    }
   ],
   "source": [
    "total_churn=df.loc[df.Churn=='Yes']['customerID'].count()\n",
    "print(\"the total number of churn is: \",total_churn)"
   ]
  },
  {
   "cell_type": "markdown",
   "metadata": {},
   "source": [
    "<h4><b>The tenure</b></h4>"
   ]
  },
  {
   "cell_type": "markdown",
   "metadata": {},
   "source": [
    "The tenure of a customer refers to the amount of time a customer has been using or subscribed to a particular service.Lets take a deeper look into it:"
   ]
  },
  {
   "cell_type": "code",
   "execution_count": 29,
   "metadata": {},
   "outputs": [
    {
     "name": "stdout",
     "output_type": "stream",
     "text": [
      "the average tenure duration is:  32.0\n",
      "the maximum tenure duration is:  72\n",
      "\n",
      "the number of customer above avrg tenure:  3268\n",
      "the number of customer lower than avrg tenure:  3775\n",
      "\n",
      "number of churn for customer having above avrg tenure:  409\n",
      "number of churn for customer having lower avrg tenure:  1460\n"
     ]
    }
   ],
   "source": [
    "avrg_tenure=df['tenure'].mean().round()\n",
    "print(\"the average tenure duration is: \",avrg_tenure)\n",
    "print(\"the maximum tenure duration is: \",df['tenure'].max())\n",
    "print()\n",
    "\n",
    "#lets group them into 2 groups: \n",
    "df_=df.copy()\n",
    "df_['above_avrg_tenure']=df_['tenure'].apply(lambda x:1 if x>avrg_tenure else 0)\n",
    "\n",
    "\n",
    "print(\"the number of customer above avrg tenure: \",df_.loc[df_['above_avrg_tenure']== 1]['customerID'].count())\n",
    "print(\"the number of customer lower than avrg tenure: \",df_.loc[df_['above_avrg_tenure']== 0]['customerID'].count())\n",
    "print()\n",
    "\n",
    "print(\"number of churn for customer having above avrg tenure: \",df_.loc[(df_['above_avrg_tenure'] == 1) & (df_['Churn'] == 'Yes')]['Churn'].count())\n",
    "print('number of churn for customer having lower avrg tenure: ',df_.loc[(df_['above_avrg_tenure'] == 0) & (df_['Churn'] == 'Yes')]['Churn'].count())\n"
   ]
  },
  {
   "cell_type": "markdown",
   "metadata": {},
   "source": [
    "First of all we started the analysis by getting the average tenure duration of the customers and we got the number 32.<br>Then we proceeded by grouping the customers into 2 groups. The first group represents the customer with an above average tenure duration and the second group represents customer with a lower average tenure duration.<br>\n",
    "<br>\n",
    "It appears that the number of customer that are in the first group are 3268 person and the number of customer that are in the second group are 3775 person;thise 2 numbers are very close to each other which is great for determining whether or not the group has a tendency to churn.<br>\n",
    "<br>\n",
    "We carry on by checking both groups number of churn customer and here is where it gets interesting.Even though the number of customer in each group is close, we remark that the number of customer that churn and have  an above avrg tenure is 409 and the number of churn for customer having lower average tenure is 1460<br>\n",
    "<br><font color='\"#FFCCCB\"'>In conclusion, it's evident that customers with above-average tenure show a lower churn rate compared to customers with below-average tenure. This observation highlights the significant impact of tenure on customer churn within the provided dataset.</font><br>\n",
    "<br>"
   ]
  },
  {
   "cell_type": "markdown",
   "metadata": {},
   "source": [
    "<h4><b>Age range</b></h4>"
   ]
  },
  {
   "cell_type": "code",
   "execution_count": 54,
   "metadata": {},
   "outputs": [
    {
     "name": "stdout",
     "output_type": "stream",
     "text": [
      "the number of senior citizen customer is:  1142\n",
      "the number of junior citizen customer is:  5901\n",
      "\n",
      "the total number of senior that bailed:  476\n",
      "the total number of junior thay bailed:  1393\n",
      "\n",
      "the percentage of senior citizen that are customers is:  16.21\n",
      "the percentage of junior citizen that are customers is:  83.79\n",
      "\n",
      "the percentage of the customer that bailed and is a senior citizen is:  25.47\n",
      "the percentage of the customer that bailed and is a junior citizen is:  74.53\n"
     ]
    }
   ],
   "source": [
    "senior=df_.loc[df_.SeniorCitizen==1]['customerID'].count()\n",
    "junior=7043-senior\n",
    "print(\"the number of senior citizen customer is: \",senior)\n",
    "print(\"the number of junior citizen customer is: \",junior)\n",
    "print()\n",
    "\n",
    "senior_churn=df_.loc[(df_.SeniorCitizen==1) & (df_.Churn=='Yes')]['customerID'].count()\n",
    "junior_churn=df_.loc[(df_.SeniorCitizen==0) & (df_.Churn=='Yes')]['customerID'].count()\n",
    "print(\"the total number of senior that bailed: \",senior_churn)\n",
    "print(\"the total number of junior thay bailed: \",junior_churn)\n",
    "print()\n",
    "\n",
    "\n",
    "perc_senior_custnb=(senior/7043)*100\n",
    "perc_junior_custnb=100-perc_senior_custnb\n",
    "print(\"the percentage of senior citizen that are customers is: \",perc_senior_custnb.round(2))\n",
    "print(\"the percentage of junior citizen that are customers is: \",perc_junior_custnb.round(2))\n",
    "print()\n",
    "\n",
    "perc_senior_bail=(senior_churn/total_churn)*100\n",
    "perc_junior_bail=100-perc_senior_bail\n",
    "print(\"the percentage of the customer that bailed and is a senior citizen is: \",perc_senior_bail.round(2))\n",
    "print(\"the percentage of the customer that bailed and is a junior citizen is: \",perc_junior_bail.round(2))"
   ]
  },
  {
   "cell_type": "markdown",
   "metadata": {},
   "source": [
    "Concerning the age range of the customer, we began by grouping the data into 2 groups;senior citizen and junior citizen<br>\n",
    "<br>The number of senior citizen present in our data is 1142 and the number of junior citizen is 5901.These numbers seems far from each other but there is something intreaguing about them.<br>\n",
    "<br>Even though the percentage representing the senior customer is only 16.21% ,the percentage representing the customer that are senior and became unloyal is 25% which is a quarter of the churn column.<br>\n",
    "<br><font color='\"#FFCCCB\"'>So, even though the number of senior citizen is low, the percentage of bail is not.It could be affected by a lot of circumstances and maybe they rely on financial support of somebody else. Lets tackle the dependencie section<br>\n",
    "<br>\n"
   ]
  }
 ],
 "metadata": {
  "kernelspec": {
   "display_name": "sefactory_env",
   "language": "python",
   "name": "python3"
  },
  "language_info": {
   "codemirror_mode": {
    "name": "ipython",
    "version": 3
   },
   "file_extension": ".py",
   "mimetype": "text/x-python",
   "name": "python",
   "nbconvert_exporter": "python",
   "pygments_lexer": "ipython3",
   "version": "3.10.9"
  },
  "orig_nbformat": 4
 },
 "nbformat": 4,
 "nbformat_minor": 2
}
