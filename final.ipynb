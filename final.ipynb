{
 "cells": [
  {
   "cell_type": "code",
   "execution_count": 2,
   "metadata": {},
   "outputs": [
    {
     "name": "stdout",
     "output_type": "stream",
     "text": [
      "<class 'pandas.core.frame.DataFrame'>\n",
      "RangeIndex: 7043 entries, 0 to 7042\n",
      "Data columns (total 21 columns):\n",
      " #   Column            Non-Null Count  Dtype  \n",
      "---  ------            --------------  -----  \n",
      " 0   customerID        7043 non-null   object \n",
      " 1   gender            7043 non-null   object \n",
      " 2   SeniorCitizen     7043 non-null   int64  \n",
      " 3   Partner           7043 non-null   object \n",
      " 4   Dependents        7043 non-null   object \n",
      " 5   tenure            7043 non-null   int64  \n",
      " 6   PhoneService      7043 non-null   object \n",
      " 7   MultipleLines     7043 non-null   object \n",
      " 8   InternetService   7043 non-null   object \n",
      " 9   OnlineSecurity    7043 non-null   object \n",
      " 10  OnlineBackup      7043 non-null   object \n",
      " 11  DeviceProtection  7043 non-null   object \n",
      " 12  TechSupport       7043 non-null   object \n",
      " 13  StreamingTV       7043 non-null   object \n",
      " 14  StreamingMovies   7043 non-null   object \n",
      " 15  Contract          7043 non-null   object \n",
      " 16  PaperlessBilling  7043 non-null   object \n",
      " 17  PaymentMethod     7043 non-null   object \n",
      " 18  MonthlyCharges    7043 non-null   float64\n",
      " 19  TotalCharges      7043 non-null   object \n",
      " 20  Churn             7043 non-null   object \n",
      "dtypes: float64(1), int64(2), object(18)\n",
      "memory usage: 1.1+ MB\n"
     ]
    }
   ],
   "source": [
    "import pandas as pd\n",
    "df=pd.read_csv('/Users/cyrilmahfouz/Desktop/SEF/Week2/Pandas_Rfinal/Telco-Customer-Churn.csv')\n",
    "df.info()"
   ]
  },
  {
   "cell_type": "markdown",
   "metadata": {},
   "source": [
    "<h3><font color='red'>Introduction</font></h3>"
   ]
  },
  {
   "cell_type": "code",
   "execution_count": 3,
   "metadata": {},
   "outputs": [
    {
     "data": {
      "text/html": [
       "<div>\n",
       "<style scoped>\n",
       "    .dataframe tbody tr th:only-of-type {\n",
       "        vertical-align: middle;\n",
       "    }\n",
       "\n",
       "    .dataframe tbody tr th {\n",
       "        vertical-align: top;\n",
       "    }\n",
       "\n",
       "    .dataframe thead th {\n",
       "        text-align: right;\n",
       "    }\n",
       "</style>\n",
       "<table border=\"1\" class=\"dataframe\">\n",
       "  <thead>\n",
       "    <tr style=\"text-align: right;\">\n",
       "      <th></th>\n",
       "      <th>customerID</th>\n",
       "      <th>gender</th>\n",
       "      <th>SeniorCitizen</th>\n",
       "      <th>Partner</th>\n",
       "      <th>Dependents</th>\n",
       "      <th>tenure</th>\n",
       "      <th>PhoneService</th>\n",
       "      <th>MultipleLines</th>\n",
       "      <th>InternetService</th>\n",
       "      <th>OnlineSecurity</th>\n",
       "      <th>...</th>\n",
       "      <th>DeviceProtection</th>\n",
       "      <th>TechSupport</th>\n",
       "      <th>StreamingTV</th>\n",
       "      <th>StreamingMovies</th>\n",
       "      <th>Contract</th>\n",
       "      <th>PaperlessBilling</th>\n",
       "      <th>PaymentMethod</th>\n",
       "      <th>MonthlyCharges</th>\n",
       "      <th>TotalCharges</th>\n",
       "      <th>Churn</th>\n",
       "    </tr>\n",
       "  </thead>\n",
       "  <tbody>\n",
       "    <tr>\n",
       "      <th>0</th>\n",
       "      <td>7590-VHVEG</td>\n",
       "      <td>Female</td>\n",
       "      <td>0</td>\n",
       "      <td>Yes</td>\n",
       "      <td>No</td>\n",
       "      <td>1</td>\n",
       "      <td>No</td>\n",
       "      <td>No phone service</td>\n",
       "      <td>DSL</td>\n",
       "      <td>No</td>\n",
       "      <td>...</td>\n",
       "      <td>No</td>\n",
       "      <td>No</td>\n",
       "      <td>No</td>\n",
       "      <td>No</td>\n",
       "      <td>Month-to-month</td>\n",
       "      <td>Yes</td>\n",
       "      <td>Electronic check</td>\n",
       "      <td>29.85</td>\n",
       "      <td>29.85</td>\n",
       "      <td>No</td>\n",
       "    </tr>\n",
       "    <tr>\n",
       "      <th>1</th>\n",
       "      <td>5575-GNVDE</td>\n",
       "      <td>Male</td>\n",
       "      <td>0</td>\n",
       "      <td>No</td>\n",
       "      <td>No</td>\n",
       "      <td>34</td>\n",
       "      <td>Yes</td>\n",
       "      <td>No</td>\n",
       "      <td>DSL</td>\n",
       "      <td>Yes</td>\n",
       "      <td>...</td>\n",
       "      <td>Yes</td>\n",
       "      <td>No</td>\n",
       "      <td>No</td>\n",
       "      <td>No</td>\n",
       "      <td>One year</td>\n",
       "      <td>No</td>\n",
       "      <td>Mailed check</td>\n",
       "      <td>56.95</td>\n",
       "      <td>1889.5</td>\n",
       "      <td>No</td>\n",
       "    </tr>\n",
       "    <tr>\n",
       "      <th>2</th>\n",
       "      <td>3668-QPYBK</td>\n",
       "      <td>Male</td>\n",
       "      <td>0</td>\n",
       "      <td>No</td>\n",
       "      <td>No</td>\n",
       "      <td>2</td>\n",
       "      <td>Yes</td>\n",
       "      <td>No</td>\n",
       "      <td>DSL</td>\n",
       "      <td>Yes</td>\n",
       "      <td>...</td>\n",
       "      <td>No</td>\n",
       "      <td>No</td>\n",
       "      <td>No</td>\n",
       "      <td>No</td>\n",
       "      <td>Month-to-month</td>\n",
       "      <td>Yes</td>\n",
       "      <td>Mailed check</td>\n",
       "      <td>53.85</td>\n",
       "      <td>108.15</td>\n",
       "      <td>Yes</td>\n",
       "    </tr>\n",
       "    <tr>\n",
       "      <th>3</th>\n",
       "      <td>7795-CFOCW</td>\n",
       "      <td>Male</td>\n",
       "      <td>0</td>\n",
       "      <td>No</td>\n",
       "      <td>No</td>\n",
       "      <td>45</td>\n",
       "      <td>No</td>\n",
       "      <td>No phone service</td>\n",
       "      <td>DSL</td>\n",
       "      <td>Yes</td>\n",
       "      <td>...</td>\n",
       "      <td>Yes</td>\n",
       "      <td>Yes</td>\n",
       "      <td>No</td>\n",
       "      <td>No</td>\n",
       "      <td>One year</td>\n",
       "      <td>No</td>\n",
       "      <td>Bank transfer (automatic)</td>\n",
       "      <td>42.30</td>\n",
       "      <td>1840.75</td>\n",
       "      <td>No</td>\n",
       "    </tr>\n",
       "    <tr>\n",
       "      <th>4</th>\n",
       "      <td>9237-HQITU</td>\n",
       "      <td>Female</td>\n",
       "      <td>0</td>\n",
       "      <td>No</td>\n",
       "      <td>No</td>\n",
       "      <td>2</td>\n",
       "      <td>Yes</td>\n",
       "      <td>No</td>\n",
       "      <td>Fiber optic</td>\n",
       "      <td>No</td>\n",
       "      <td>...</td>\n",
       "      <td>No</td>\n",
       "      <td>No</td>\n",
       "      <td>No</td>\n",
       "      <td>No</td>\n",
       "      <td>Month-to-month</td>\n",
       "      <td>Yes</td>\n",
       "      <td>Electronic check</td>\n",
       "      <td>70.70</td>\n",
       "      <td>151.65</td>\n",
       "      <td>Yes</td>\n",
       "    </tr>\n",
       "  </tbody>\n",
       "</table>\n",
       "<p>5 rows × 21 columns</p>\n",
       "</div>"
      ],
      "text/plain": [
       "   customerID  gender  SeniorCitizen Partner Dependents  tenure PhoneService  \\\n",
       "0  7590-VHVEG  Female              0     Yes         No       1           No   \n",
       "1  5575-GNVDE    Male              0      No         No      34          Yes   \n",
       "2  3668-QPYBK    Male              0      No         No       2          Yes   \n",
       "3  7795-CFOCW    Male              0      No         No      45           No   \n",
       "4  9237-HQITU  Female              0      No         No       2          Yes   \n",
       "\n",
       "      MultipleLines InternetService OnlineSecurity  ... DeviceProtection  \\\n",
       "0  No phone service             DSL             No  ...               No   \n",
       "1                No             DSL            Yes  ...              Yes   \n",
       "2                No             DSL            Yes  ...               No   \n",
       "3  No phone service             DSL            Yes  ...              Yes   \n",
       "4                No     Fiber optic             No  ...               No   \n",
       "\n",
       "  TechSupport StreamingTV StreamingMovies        Contract PaperlessBilling  \\\n",
       "0          No          No              No  Month-to-month              Yes   \n",
       "1          No          No              No        One year               No   \n",
       "2          No          No              No  Month-to-month              Yes   \n",
       "3         Yes          No              No        One year               No   \n",
       "4          No          No              No  Month-to-month              Yes   \n",
       "\n",
       "               PaymentMethod MonthlyCharges  TotalCharges Churn  \n",
       "0           Electronic check          29.85         29.85    No  \n",
       "1               Mailed check          56.95        1889.5    No  \n",
       "2               Mailed check          53.85        108.15   Yes  \n",
       "3  Bank transfer (automatic)          42.30       1840.75    No  \n",
       "4           Electronic check          70.70        151.65   Yes  \n",
       "\n",
       "[5 rows x 21 columns]"
      ]
     },
     "execution_count": 3,
     "metadata": {},
     "output_type": "execute_result"
    }
   ],
   "source": [
    "df.head()\n"
   ]
  },
  {
   "cell_type": "markdown",
   "metadata": {},
   "source": [
    "To start we are looking at a dataframe representing the customers in a telecominication company .This dataframe contains information about 7043 customer.Furthermore we can detect that all of these columns revolves around one target value and that is whether the customer churn or not.<br>\n",
    "Let's begin by identifying the interesting columns and how could they possibly relate to the churning of the customer. The logical links that affect the prices are:<br>\n",
    "1. The tenure.<br>\n",
    "2. The age range (Senior or not)\n",
    "3. Whether or not the customer have dependents or not.(Partners).<br>\n",
    "4. What is the type of service that he is using.<br>\n",
    "5. The type of contract that he is enrolled with.<br>\n",
    "6. The total charges that he has to pay. "
   ]
  },
  {
   "cell_type": "markdown",
   "metadata": {},
   "source": [
    "<h3><font color='red'>Anazlyze</font></h3>"
   ]
  },
  {
   "cell_type": "markdown",
   "metadata": {},
   "source": [
    "To begin with let's understand the meaning of churn and why it is that important. The churn column represents whether the custumer bail on the company or not. So we could also get from this column if the customer is loyal towards the company.<br>\n",
    "After understandig this, lets kick it by getting the total number of churn and analyzing the tenure of each customer."
   ]
  },
  {
   "cell_type": "code",
   "execution_count": 4,
   "metadata": {},
   "outputs": [
    {
     "name": "stdout",
     "output_type": "stream",
     "text": [
      "the total number of churn is:  1869\n"
     ]
    }
   ],
   "source": [
    "total_churn=df.loc[df.Churn=='Yes']['customerID'].count()\n",
    "print(\"the total number of churn is: \",total_churn)"
   ]
  },
  {
   "cell_type": "markdown",
   "metadata": {},
   "source": [
    "<h4><b>The tenure</b></h4>"
   ]
  },
  {
   "cell_type": "markdown",
   "metadata": {},
   "source": [
    "The tenure of a customer refers to the amount of time a customer has been using or subscribed to a particular service.Lets take a deeper look into it:"
   ]
  },
  {
   "cell_type": "code",
   "execution_count": 5,
   "metadata": {},
   "outputs": [
    {
     "name": "stdout",
     "output_type": "stream",
     "text": [
      "the average tenure duration is:  32.0\n",
      "the maximum tenure duration is:  72\n",
      "\n",
      "the number of customer above avrg tenure:  3268\n",
      "the number of customer lower than avrg tenure:  3775\n",
      "\n",
      "number of churn for customer having above avrg tenure:  409\n",
      "number of churn for customer having lower avrg tenure:  1460\n"
     ]
    }
   ],
   "source": [
    "avrg_tenure=df['tenure'].mean().round()\n",
    "print(\"the average tenure duration is: \",avrg_tenure)\n",
    "print(\"the maximum tenure duration is: \",df['tenure'].max())\n",
    "print()\n",
    "\n",
    "#lets group them into 2 groups: \n",
    "df_=df.copy()\n",
    "df_['above_avrg_tenure']=df_['tenure'].apply(lambda x:1 if x>avrg_tenure else 0)\n",
    "\n",
    "\n",
    "print(\"the number of customer above avrg tenure: \",df_.loc[df_['above_avrg_tenure']== 1]['customerID'].count())\n",
    "print(\"the number of customer lower than avrg tenure: \",df_.loc[df_['above_avrg_tenure']== 0]['customerID'].count())\n",
    "print()\n",
    "\n",
    "print(\"number of churn for customer having above avrg tenure: \",df_.loc[(df_['above_avrg_tenure'] == 1) & (df_['Churn'] == 'Yes')]['Churn'].count())\n",
    "print('number of churn for customer having lower avrg tenure: ',df_.loc[(df_['above_avrg_tenure'] == 0) & (df_['Churn'] == 'Yes')]['Churn'].count())\n"
   ]
  },
  {
   "cell_type": "markdown",
   "metadata": {},
   "source": [
    "First of all we started the analysis by getting the average tenure duration of the customers and we got the number 32.<br>Then we proceeded by grouping the customers into 2 groups. The first group represents the customer with an above average tenure duration and the second group represents customer with a lower average tenure duration.<br>\n",
    "<br>\n",
    "It appears that the number of customer that are in the first group are 3268 person and the number of customer that are in the second group are 3775 person;thise 2 numbers are very close to each other which is great for determining whether or not the group has a tendency to churn.<br>\n",
    "<br>\n",
    "We carry on by checking both groups number of churn customer and here is where it gets interesting.Even though the number of customer in each group is close, we remark that the number of customer that churn and have  an above avrg tenure is 409 and the number of churn for customer having lower average tenure is 1460<br>\n",
    "<br><font color='\"#FFCCCB\"'>In conclusion, it's evident that customers with above-average tenure show a lower churn rate compared to customers with below-average tenure. This observation highlights the significant impact of tenure on customer churn within the provided dataset.</font><br>\n",
    "<br>"
   ]
  },
  {
   "cell_type": "markdown",
   "metadata": {},
   "source": [
    "<h4><b>Age range</b></h4>"
   ]
  },
  {
   "cell_type": "code",
   "execution_count": 6,
   "metadata": {},
   "outputs": [
    {
     "name": "stdout",
     "output_type": "stream",
     "text": [
      "the number of senior citizen customer is:  1142\n",
      "the number of junior citizen customer is:  5901\n",
      "\n",
      "the total number of senior that bailed:  476\n",
      "the total number of junior thay bailed:  1393\n",
      "\n",
      "the percentage of senior citizen that are customers is:  16.21\n",
      "the percentage of junior citizen that are customers is:  83.79\n",
      "\n",
      "the percentage of the customer that bailed and is a senior citizen is:  25.47\n",
      "the percentage of the customer that bailed and is a junior citizen is:  74.53\n"
     ]
    }
   ],
   "source": [
    "senior=df_.loc[df_.SeniorCitizen==1]['customerID'].count()\n",
    "junior=7043-senior\n",
    "print(\"the number of senior citizen customer is: \",senior)\n",
    "print(\"the number of junior citizen customer is: \",junior)\n",
    "print()\n",
    "\n",
    "senior_churn=df_.loc[(df_.SeniorCitizen==1) & (df_.Churn=='Yes')]['customerID'].count()\n",
    "junior_churn=df_.loc[(df_.SeniorCitizen==0) & (df_.Churn=='Yes')]['customerID'].count()\n",
    "print(\"the total number of senior that bailed: \",senior_churn)\n",
    "print(\"the total number of junior thay bailed: \",junior_churn)\n",
    "print()\n",
    "\n",
    "\n",
    "perc_senior_custnb=(senior/7043)*100\n",
    "perc_junior_custnb=100-perc_senior_custnb\n",
    "print(\"the percentage of senior citizen that are customers is: \",perc_senior_custnb.round(2))\n",
    "print(\"the percentage of junior citizen that are customers is: \",perc_junior_custnb.round(2))\n",
    "print()\n",
    "\n",
    "perc_senior_bail=(senior_churn/total_churn)*100\n",
    "perc_junior_bail=100-perc_senior_bail\n",
    "print(\"the percentage of the customer that bailed and is a senior citizen is: \",perc_senior_bail.round(2))\n",
    "print(\"the percentage of the customer that bailed and is a junior citizen is: \",perc_junior_bail.round(2))"
   ]
  },
  {
   "cell_type": "markdown",
   "metadata": {},
   "source": [
    "Concerning the age range of the customer, we began by grouping the data into 2 groups;senior citizen and junior citizen<br>\n",
    "<br>The number of senior citizen present in our data is 1142 and the number of junior citizen is 5901.These numbers seems far from each other but there is something intreaguing about them.<br>\n",
    "<br>Even though the percentage representing the senior customer is only 16.21% ,the percentage representing the customer that are senior and became unloyal is 25% which is a quarter of the churn column.<br>\n",
    "<br><font color='\"#FFCCCB\"'>So, even though the number of senior citizen is low, the percentage of bail is not.It could be affected by a lot of circumstances and maybe somebody rely on them for support. Lets tackle the dependencie section<br>\n",
    "<br>\n"
   ]
  },
  {
   "cell_type": "markdown",
   "metadata": {},
   "source": [
    "<h4><b>Dependencie and partnership</b></h4>"
   ]
  },
  {
   "cell_type": "code",
   "execution_count": 7,
   "metadata": {},
   "outputs": [
    {
     "name": "stdout",
     "output_type": "stream",
     "text": [
      "total number of senior citizen that have people depending on him:  91\n",
      "the senios that doesnt have people depending on them:  1051\n",
      "\n",
      "senior that have people depending on them and bailed:  22\n",
      "senior that doesn't have people depending on them and bailed:  454\n",
      "\n",
      "the percentage of people that bailed and have dependents:  24.18\n",
      "the percentage of people that bailed and doesn't have dependents:  43.2\n"
     ]
    }
   ],
   "source": [
    "total_sen_dep=df.loc[(df_['SeniorCitizen']==1) & (df_['Dependents']=='Yes')]\n",
    "total_sen_not_dep=df.loc[(df_['SeniorCitizen']==1) & (df_['Dependents']=='No')]\n",
    "\n",
    "print(\"total number of senior citizen that have people depending on him: \",total_sen_dep['customerID'].count())\n",
    "print(\"the senios that doesnt have people depending on them: \",total_sen_not_dep['customerID'].count())\n",
    "print()\n",
    "\n",
    "print(\"senior that have people depending on them and bailed: \",total_sen_dep.loc[total_sen_dep['Churn']=='Yes']['customerID'].count())\n",
    "print(\"senior that doesn't have people depending on them and bailed: \",total_sen_not_dep.loc[total_sen_not_dep['Churn']=='Yes']['customerID'].count())\n",
    "print()\n",
    "\n",
    "perc_sen_dep=(22/91)*100\n",
    "perc_not_sen_dep=(454/1051)*100\n",
    "\n",
    "print(\"the percentage of people that bailed and have dependents: \",round(perc_sen_dep,2))\n",
    "print(\"the percentage of people that bailed and doesn't have dependents: \",round(perc_not_sen_dep,2))"
   ]
  },
  {
   "cell_type": "markdown",
   "metadata": {},
   "source": [
    "To continue with the analyze that we did before we can conclude that the senior citizens are somewhat disloyal to the company.Because 43.2% senior citizen that didn't have dependents departed.<br>\n",
    "Now let's proceed by checking the other part of the customers;the juniors"
   ]
  },
  {
   "cell_type": "code",
   "execution_count": 8,
   "metadata": {},
   "outputs": [
    {
     "name": "stdout",
     "output_type": "stream",
     "text": [
      "total number of junior citizens that have people depending on them:  2019\n",
      "total number of junior citizens that doesnt have people depending on them:  3882\n",
      "\n",
      "junior that have people depending on them and bailed:  304\n",
      "junior that doesn't have people depending on them and bailed:  1089\n",
      "\n",
      "the percentage of people that bailed and have dependents:  15.06\n",
      "the percentage of people that bailed and doesn't have dependents:  28.05\n"
     ]
    }
   ],
   "source": [
    "total_jun_dep=df.loc[(df_['SeniorCitizen']==0) & (df_['Dependents']=='Yes')]\n",
    "total_jun_not_dep=df.loc[(df_['SeniorCitizen']==0) & (df_['Dependents']=='No')]\n",
    "\n",
    "print(\"total number of junior citizens that have people depending on them: \",total_jun_dep['customerID'].count())\n",
    "print(\"total number of junior citizens that doesnt have people depending on them: \",total_jun_not_dep['customerID'].count())\n",
    "print()\n",
    "\n",
    "print(\"junior that have people depending on them and bailed: \",total_jun_dep.loc[total_jun_dep['Churn']=='Yes']['customerID'].count())\n",
    "print(\"junior that doesn't have people depending on them and bailed: \",total_jun_not_dep.loc[total_jun_not_dep['Churn']=='Yes']['customerID'].count())\n",
    "print()\n",
    "\n",
    "perc_jun_dep=(304/2019)*100\n",
    "perc_not_jun_dep=(1089/3882)*100\n",
    "\n",
    "print(\"the percentage of people that bailed and have dependents: \",round(perc_jun_dep,2))\n",
    "print(\"the percentage of people that bailed and doesn't have dependents: \",round(perc_not_jun_dep,2))"
   ]
  },
  {
   "cell_type": "markdown",
   "metadata": {},
   "source": [
    "From this data,we can clearly see that the most loyal customers belong to the category of junior that have dependents;only 15.06% of them stopped there contract with the company.We can clearly see a diffrence in the percentages between the senior citizens that doesn't have dependents and the junior citizens that shares the same column. For the senior we had a percentage of 43.2% nearly half of them left the company, and for the junior only 28.05%.<br>\n",
    "So both age and dependencie are factors that could determine whether or not this client will ditch the company.But this doesnt end here, let's check the partnership"
   ]
  },
  {
   "cell_type": "code",
   "execution_count": 17,
   "metadata": {},
   "outputs": [
    {
     "name": "stdout",
     "output_type": "stream",
     "text": [
      "partner+churn:  669\n",
      "no partner+churn:  1200\n",
      "\n"
     ]
    }
   ],
   "source": [
    "print(\"partner+churn: \",df_.loc[(df_['Partner']=='Yes') & (df_['Churn']=='Yes')]['customerID'].count())\n",
    "print(\"no partner+churn: \",df_.loc[(df_['Partner']=='No') & (df_['Churn']=='Yes')]['customerID'].count())\n",
    "print()\n",
    "\n",
    "\n"
   ]
  },
  {
   "cell_type": "markdown",
   "metadata": {},
   "source": [
    "Here we can see a strong relation that affect the churn column.We can clearly see that the customers with no partner are more likely to end up unloyal than the customers that have a partner."
   ]
  },
  {
   "cell_type": "markdown",
   "metadata": {},
   "source": [
    "<h4><b>Services</b></h4>"
   ]
  },
  {
   "cell_type": "markdown",
   "metadata": {},
   "source": [
    "While reading the data, we can notice two types of service;phone services and internet services.Lets begin by splitting them into 2 groups."
   ]
  },
  {
   "cell_type": "code",
   "execution_count": 33,
   "metadata": {},
   "outputs": [
    {
     "name": "stdout",
     "output_type": "stream",
     "text": [
      "only phone service customers:  1526\n",
      "percentage of phone service customer only:  21.67\n",
      "\n",
      "the number of customers that have 1 line:  1184\n",
      "nb of customers that have multiple lines:  342\n",
      "\n",
      "1 line + churn:  103\n",
      "multiple lines + churn:  10\n",
      "\n",
      "percentage of one line +churn:  8.7\n",
      "percentage of multiple line + churn:  2.92\n"
     ]
    }
   ],
   "source": [
    "#Phone services\n",
    "only_phone=df_.loc[(df_['PhoneService']=='Yes') & (df_['InternetService']=='No')]\n",
    "perc_phone=(1526/7043)*100\n",
    "print(\"only phone service customers: \",only_phone.customerID.count())\n",
    "print(\"percentage of phone service customer only: \",round(perc_phone,2))\n",
    "print()\n",
    "\n",
    "one_line_cust=only_phone.loc[only_phone['MultipleLines']=='No']\n",
    "print(\"the number of customers that have 1 line: \",one_line_cust.customerID.count())\n",
    "print(\"nb of customers that have multiple lines: \",only_phone.loc[only_phone['MultipleLines']=='Yes'].customerID.count())\n",
    "print()\n",
    "\n",
    "one_line_churn=one_line_cust.loc[one_line_cust.Churn==\"Yes\"]\n",
    "mult_line_churn=only_phone.loc[(only_phone['MultipleLines']=='Yes') & (only_phone['Churn']==\"Yes\")]\n",
    "print(\"1 line + churn: \",one_line_churn.customerID.count())\n",
    "print(\"multiple lines + churn: \",mult_line_churn.customerID.count())\n",
    "print()\n",
    "\n",
    "perc_one_churn=(103/1184)*100\n",
    "perc_mult_churn=(10/342)*100\n",
    "print(\"percentage of one line +churn: \",round(perc_one_churn,2))\n",
    "print(\"percentage of multiple line + churn: \",round(perc_mult_churn,2))\n",
    "\n"
   ]
  },
  {
   "cell_type": "markdown",
   "metadata": {},
   "source": [
    "We can clearly identify that the phone service is satisfying to the customers because the percentage of churn of the single line is 8.7% and the percentage of churn for the multiple line service is only 2.92%.<br>\n",
    "But we are still talking about the customers that only uses the phone service.Lets continue by analyzing the internet only customer:"
   ]
  },
  {
   "cell_type": "code",
   "execution_count": 47,
   "metadata": {},
   "outputs": [
    {
     "name": "stdout",
     "output_type": "stream",
     "text": [
      "only internet service customers:  682\n",
      "percentage of internet service customer only:  9.68\n",
      "\n",
      "total nb of churn for internet cust:  170\n",
      "nb of churn for DSL customers:  170\n",
      "nb of churn for fiber customer:  0\n"
     ]
    }
   ],
   "source": [
    "#internet cust only\n",
    "int_cust=df_.loc[(df_['PhoneService']=='No') & ((df_['InternetService']=='DSL') | (df_['InternetService']==\"Fiber optic\"))]\n",
    "\n",
    "perc_int=(int_cust.customerID.count()/7043)*100\n",
    "print(\"only internet service customers: \",int_cust.customerID.count())\n",
    "print(\"percentage of internet service customer only: \",round(perc_int,2))\n",
    "print()\n",
    "\n",
    "dsl_cust=df_.loc[(df_['PhoneService']=='No') & (df_['InternetService']=='DSL')]\n",
    "fiber_cust=df_.loc[(df_['PhoneService']=='No') & (df_['InternetService']=='Fiber optic')]\n",
    "\n",
    "print(\"total nb of churn for internet cust: \",int_cust.loc[int_cust['Churn']==\"Yes\"].customerID.count())\n",
    "print(\"nb of churn for DSL customers: \",dsl_cust.loc[dsl_cust['Churn']==\"Yes\"].customerID.count())\n",
    "print(\"nb of churn for fiber customer: \",fiber_cust.loc[fiber_cust['Churn']=='Yes'].customerID.count())\n",
    "\n"
   ]
  },
  {
   "cell_type": "markdown",
   "metadata": {},
   "source": [
    "Before we go deeper into the internet services lets have a recap.<br>\n",
    "So first we splitted the customers into 2 parts: the first part are the customers that only have phone services, and the second part are the customers that only have internet access.<br>\n",
    "After studying both group we got that the phone customers represents 21.67% of all the customers and the internet only group represented 9.68% of them.<br>\n",
    "Even though the number of phone customer is bigger we found out that only 113 of them didn't continue with the company which is smaller than the one for the internet customer that is 170;ut these 170 churn only comes from DSL users the fiber customer are loyal.<br>\n",
    "<br>\n",
    "We can remark that the phone service is much more loyal to the company maybe because the service is well provided and people are happy with it."
   ]
  }
 ],
 "metadata": {
  "kernelspec": {
   "display_name": "sefactory_env",
   "language": "python",
   "name": "python3"
  },
  "language_info": {
   "codemirror_mode": {
    "name": "ipython",
    "version": 3
   },
   "file_extension": ".py",
   "mimetype": "text/x-python",
   "name": "python",
   "nbconvert_exporter": "python",
   "pygments_lexer": "ipython3",
   "version": "3.10.9"
  },
  "orig_nbformat": 4
 },
 "nbformat": 4,
 "nbformat_minor": 2
}
